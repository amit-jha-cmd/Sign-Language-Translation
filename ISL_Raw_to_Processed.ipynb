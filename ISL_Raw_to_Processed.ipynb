{
  "nbformat": 4,
  "nbformat_minor": 0,
  "metadata": {
    "colab": {
      "name": "ISL-Raw-to-Processed",
      "private_outputs": true,
      "provenance": [],
      "mount_file_id": "1anqJwOJP76Qyd8cP0zwKucd-mYcMWmm7",
      "authorship_tag": "ABX9TyM8/WVpJina3oezbpR4vclU",
      "include_colab_link": true
    },
    "kernelspec": {
      "name": "python3",
      "display_name": "Python 3"
    }
  },
  "cells": [
    {
      "cell_type": "markdown",
      "metadata": {
        "id": "view-in-github",
        "colab_type": "text"
      },
      "source": [
        "<a href=\"https://colab.research.google.com/github/devbihari/Sign-Language-Translation/blob/master/ISL_Raw_to_Processed.ipynb\" target=\"_parent\"><img src=\"https://colab.research.google.com/assets/colab-badge.svg\" alt=\"Open In Colab\"/></a>"
      ]
    },
    {
      "cell_type": "markdown",
      "metadata": {
        "id": "Z_VcvsVsOCFe"
      },
      "source": [
        "# Raw to Processed video sequences"
      ]
    },
    {
      "cell_type": "code",
      "metadata": {
        "id": "w8hUB1X_N7Cm"
      },
      "source": [
        "# copy raw video sequences for processing\n",
        "!cp \"/content/drive/My Drive/raw_data\" -r ./data"
      ],
      "execution_count": null,
      "outputs": []
    },
    {
      "cell_type": "code",
      "metadata": {
        "id": "UW6F_NTRQa4b"
      },
      "source": [
        "import pandas as pd\n",
        "meta = pd.read_csv(\"/content/ISL-Dataset-26032020 - time_sequence(2).csv\")\n",
        "meta = meta.iloc[:, [i for i in range(len(meta.columns) - 3)]]"
      ],
      "execution_count": null,
      "outputs": []
    },
    {
      "cell_type": "code",
      "metadata": {
        "id": "kupqVbk0yJt8"
      },
      "source": [
        "cols = []\n",
        "for col in meta.columns[1:]:\n",
        "    if len(col) > 3:\n",
        "        cols.append(col[:-2])\n",
        "    else:\n",
        "        cols.append(col)"
      ],
      "execution_count": null,
      "outputs": []
    },
    {
      "cell_type": "code",
      "metadata": {
        "id": "3erKrxIhRek_"
      },
      "source": [
        "!mkdir processed"
      ],
      "execution_count": null,
      "outputs": []
    },
    {
      "cell_type": "code",
      "metadata": {
        "id": "NXPFTQnCSW4-"
      },
      "source": [
        "from tqdm import tqdm"
      ],
      "execution_count": null,
      "outputs": []
    },
    {
      "cell_type": "code",
      "metadata": {
        "id": "2ksRFK6aPJH2"
      },
      "source": [
        "ind = 0\n",
        "for col in tqdm(range(len(cols))):\n",
        "    for i in range(len(meta[\"Name\"].values)):\n",
        "        word = meta[\"Name\"].values[i]\n",
        "        vid = cols[col]\n",
        "        start, end = meta[vid].values[i].split(\":\")\n",
        "        s_mil, s_sec, s_min = (start[-1] + \"00\", start[-3:-1], str(start[:-3]).zfill(2))\n",
        "        e_mil, e_sec, e_min = (\"0\" + end[-1] + \"0\", end[-3:-1], str(end[:-3]).zfill(2))\n",
        "        !mkdir -p ./processed/$word\n",
        "        s_time = \"00:{}:{}.{}\".format(s_min, s_sec, s_mil)\n",
        "        e_time = \"00:{}:{}.{}\".format(e_min, e_sec, e_mil)\n",
        "        nm = word + \"/\" + word + \"_\" + str(ind) + \".mp4\"\n",
        "        vid = vid + \".mp4\"\n",
        "        !ffmpeg -hide_banner -loglevel panic -nostats -i ./data/$vid -an -ss $s_time -to $e_time -async 1 \"./processed/$nm\"\n",
        "    ind += 1\n",
        "\n",
        "!zip -r data.zip ./processed/\n",
        "!cp data.zip \"/content/drive/My Drive\""
      ],
      "execution_count": null,
      "outputs": []
    },
    {
      "cell_type": "code",
      "metadata": {
        "id": "Ng30SavgZ0Td"
      },
      "source": [
        "!ls ../content/data/"
      ],
      "execution_count": null,
      "outputs": []
    },
    {
      "cell_type": "code",
      "metadata": {
        "id": "v6HGjcgiv0t7"
      },
      "source": [
        "!rm -rf ./processed"
      ],
      "execution_count": null,
      "outputs": []
    },
    {
      "cell_type": "code",
      "metadata": {
        "id": "p9G_8IvmwPY-"
      },
      "source": [
        "!zip -r data.zip ./processed/"
      ],
      "execution_count": null,
      "outputs": []
    }
  ]
}