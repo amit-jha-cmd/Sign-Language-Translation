{
  "nbformat": 4,
  "nbformat_minor": 0,
  "metadata": {
    "colab": {
      "name": "ISL-131120",
      "provenance": [],
      "private_outputs": true,
      "toc_visible": true,
      "mount_file_id": "1anqJwOJP76Qyd8cP0zwKucd-mYcMWmm7",
      "authorship_tag": "ABX9TyML/oXMi21vnbEagwCZOZ27",
      "include_colab_link": true
    },
    "kernelspec": {
      "name": "python3",
      "display_name": "Python 3"
    }
  },
  "cells": [
    {
      "cell_type": "markdown",
      "metadata": {
        "id": "view-in-github",
        "colab_type": "text"
      },
      "source": [
        "<a href=\"https://colab.research.google.com/github/devbihari/Sign-Language-Translation/blob/master/Final.ipynb\" target=\"_parent\"><img src=\"https://colab.research.google.com/assets/colab-badge.svg\" alt=\"Open In Colab\"/></a>"
      ]
    },
    {
      "cell_type": "markdown",
      "metadata": {
        "id": "Z_VcvsVsOCFe"
      },
      "source": [
        "# Final Notebook for Indian Sign Langugage Recognition on Video Dataset"
      ]
    },
    {
      "cell_type": "code",
      "metadata": {
        "id": "w8hUB1X_N7Cm"
      },
      "source": [
        ""
      ],
      "execution_count": null,
      "outputs": []
    }
  ]
}